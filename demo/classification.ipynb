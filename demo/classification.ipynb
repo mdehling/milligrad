{
  "cells": [
    {
      "cell_type": "markdown",
      "metadata": {
        "id": "xXRv1XDqy-Mk"
      },
      "source": [
        "# Classification using milliGrad\n",
        "[![Open in Colab](https://colab.research.google.com/assets/colab-badge.svg)](https://colab.research.google.com/github/mdehling/milligrad/blob/main/demo/classification.ipynb)\n",
        "\n",
        "Make sure you have the `milliGrad` package installed.\n",
        "\n",
        "* If you are running this notebook on Google Colab, the first cell will take\n",
        "  care of it for you.\n",
        "* If you opened this notebook from within GitHub Codespaces, `milliGrad` should\n",
        "  already be installed."
      ]
    },
    {
      "cell_type": "code",
      "execution_count": null,
      "metadata": {},
      "outputs": [],
      "source": [
        "try:\n",
        "    import milligrad\n",
        "    MISSING_MILLIGRAD = False\n",
        "except ImportError:\n",
        "    MISSING_MILLIGRAD = True\n",
        "\n",
        "try:\n",
        "    from google import colab\n",
        "    RUNNING_ON_COLAB = True\n",
        "except ImportError:\n",
        "    RUNNING_ON_COLAB = False\n",
        "\n",
        "if MISSING_MILLIGRAD and RUNNING_ON_COLAB:\n",
        "    !pip install -q 'git+https://github.com/mdehling/milligrad.git'\n",
        "elif MISSING_MILLIGRAD and not RUNNING_ON_COLAB:\n",
        "    raise ModuleNotFoundError(\"please install 'milligrad' package\")"
      ]
    },
    {
      "cell_type": "code",
      "execution_count": null,
      "metadata": {
        "id": "tVD_f8x1Bf75"
      },
      "outputs": [],
      "source": [
        "from milligrad import Tensor, nn\n",
        "from milligrad.nn import functional as F\n",
        "from milligrad.datasets import make_moons, make_blob_circle\n",
        "\n",
        "import numpy as np\n",
        "import matplotlib as mpl\n",
        "import matplotlib.pyplot as plt\n",
        "\n",
        "mpl.rc('image', cmap='brg')\n"
      ]
    },
    {
      "cell_type": "markdown",
      "metadata": {},
      "source": [
        "## Binary Classification\n",
        "In this section we build a simple neural network for binary classification and\n",
        "train it on the moons dataset using stochastic gradient descent to minimize\n",
        "binary crossentropy loss."
      ]
    },
    {
      "cell_type": "code",
      "execution_count": null,
      "metadata": {},
      "outputs": [],
      "source": [
        "x, y = make_moons(100, noise=0.1)\n",
        "x, y = Tensor(x, _label='x'), Tensor(y, _label='y')"
      ]
    },
    {
      "cell_type": "code",
      "execution_count": null,
      "metadata": {
        "id": "uIeLTk7IO2FY"
      },
      "outputs": [],
      "source": [
        "model = nn.Sequential([\n",
        "    nn.Linear(2, 32),\n",
        "    nn.ReLU(),\n",
        "    nn.Linear(32, 32),\n",
        "    nn.ReLU(),\n",
        "    nn.Linear(32, 1),\n",
        "    nn.Sigmoid()\n",
        "])\n",
        "opt = nn.optim.SGD(model, lr=1e-1)\n",
        "\n",
        "for i in range(100):\n",
        "    opt.zero_grad()\n",
        "    loss = F.binary_cross_entropy(model(x), y)\n",
        "    loss.backward()\n",
        "    opt.step()\n",
        "\n",
        "accuracy = np.mean( (model(x).value >= 0.5) == (y.value >= 0.5) )\n",
        "print(f\"Classification Accuracy: {int(accuracy*100)}%\")"
      ]
    },
    {
      "cell_type": "code",
      "execution_count": null,
      "metadata": {
        "id": "uRhSZ7tBVljK"
      },
      "outputs": [],
      "source": [
        "xx, yy = np.meshgrid(np.linspace(-2.0, 2.0, 41), np.linspace(-1.5, 1.5, 31))\n",
        "\n",
        "X = np.stack([xx.flatten(),yy.flatten()], axis=-1)\n",
        "Y = model(X).value\n",
        "Z = Y.reshape(xx.shape)\n",
        "\n",
        "plt.contourf(xx, yy, Z, alpha=0.3, levels=1)\n",
        "plt.scatter(x.value[:,0], x.value[:,1], c=y.value)\n",
        "plt.show()"
      ]
    },
    {
      "cell_type": "markdown",
      "metadata": {},
      "source": [
        "## Multiclass Classification\n",
        "This is a simple example of a multiclass classification task.  We train a neural\n",
        "network similar to the one used for binary classification, but with the final\n",
        "layers replaced to handle multiple classes."
      ]
    },
    {
      "cell_type": "code",
      "execution_count": null,
      "metadata": {},
      "outputs": [],
      "source": [
        "num_classes = 5\n",
        "x, y = make_blob_circle(num_classes, n=num_classes*50)\n",
        "x, y = Tensor(x, _label='x'), Tensor(y, _label='y')"
      ]
    },
    {
      "cell_type": "code",
      "execution_count": null,
      "metadata": {},
      "outputs": [],
      "source": [
        "def cross_entropy(y_pred, y_true):\n",
        "    return - (y_true * y_pred).mean()\n",
        "\n",
        "model = nn.Sequential([\n",
        "    nn.Linear(2, 32),\n",
        "    nn.ReLU(),\n",
        "    nn.Linear(32, 32),\n",
        "    nn.ReLU(),\n",
        "    nn.Linear(32, num_classes),\n",
        "    nn.LogSoftmax()\n",
        "])\n",
        "opt = nn.optim.SGD(model, lr=1e-1)\n",
        "\n",
        "for i in range(250):\n",
        "    opt.zero_grad()\n",
        "    loss = cross_entropy(model(x), y)\n",
        "    loss.backward()\n",
        "    opt.step()\n",
        "\n",
        "accuracy = np.mean( model(x).value.argmax(axis=-1) == y.value.argmax(axis=-1) )\n",
        "print(f\"Classification Accuracy: {int(accuracy*100)}%\")"
      ]
    },
    {
      "cell_type": "code",
      "execution_count": null,
      "metadata": {},
      "outputs": [],
      "source": [
        "xx, yy = np.meshgrid(np.linspace(-2.0, 2.0, 41), np.linspace(-1.5, 1.5, 31))\n",
        "\n",
        "X = np.stack([xx.flatten(),yy.flatten()], axis=-1)\n",
        "Y = model(X).value.argmax(axis=-1)\n",
        "Z = Y.reshape(xx.shape)\n",
        "\n",
        "plt.contourf(xx, yy, Z, alpha=0.3, levels=num_classes-1)\n",
        "#plt.pcolormesh(xx, yy, Z, alpha=0.3)\n",
        "plt.scatter(x.value[:,0], x.value[:,1], c=y.value.argmax(axis=-1))\n",
        "plt.xlim(-2, 2)\n",
        "plt.ylim(-1.5, 1.5)\n",
        "plt.show()"
      ]
    }
  ],
  "metadata": {
    "colab": {
      "provenance": []
    },
    "kernelspec": {
      "display_name": "Python 3",
      "name": "python3"
    },
    "language_info": {
      "codemirror_mode": {
        "name": "ipython",
        "version": 3
      },
      "file_extension": ".py",
      "mimetype": "text/x-python",
      "name": "python",
      "nbconvert_exporter": "python",
      "pygments_lexer": "ipython3",
      "version": "3.10.13"
    }
  },
  "nbformat": 4,
  "nbformat_minor": 0
}
